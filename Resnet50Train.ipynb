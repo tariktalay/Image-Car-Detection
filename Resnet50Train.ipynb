{
 "cells": [
  {
   "cell_type": "code",
   "execution_count": 1,
   "metadata": {
    "colab": {
     "base_uri": "https://localhost:8080/"
    },
    "executionInfo": {
     "elapsed": 980,
     "status": "ok",
     "timestamp": 1660285915746,
     "user": {
      "displayName": "Dtekno mlai",
      "userId": "06944206723654354173"
     },
     "user_tz": -180
    },
    "id": "9IcXrW1Jmhjs",
    "outputId": "6a460d72-26cf-4cbc-9e1a-a8823a0b7442"
   },
   "outputs": [
    {
     "name": "stdout",
     "output_type": "stream",
     "text": [
      "Wed Aug 17 02:02:51 2022       \n",
      "+-----------------------------------------------------------------------------+\n",
      "| NVIDIA-SMI 516.94       Driver Version: 516.94       CUDA Version: 11.7     |\n",
      "|-------------------------------+----------------------+----------------------+\n",
      "| GPU  Name            TCC/WDDM | Bus-Id        Disp.A | Volatile Uncorr. ECC |\n",
      "| Fan  Temp  Perf  Pwr:Usage/Cap|         Memory-Usage | GPU-Util  Compute M. |\n",
      "|                               |                      |               MIG M. |\n",
      "|===============================+======================+======================|\n",
      "|   0  NVIDIA GeForce ... WDDM  | 00000000:01:00.0 Off |                  N/A |\n",
      "| N/A   51C    P8     5W /  N/A |      0MiB /  4096MiB |      0%      Default |\n",
      "|                               |                      |                  N/A |\n",
      "+-------------------------------+----------------------+----------------------+\n",
      "                                                                               \n",
      "+-----------------------------------------------------------------------------+\n",
      "| Processes:                                                                  |\n",
      "|  GPU   GI   CI        PID   Type   Process name                  GPU Memory |\n",
      "|        ID   ID                                                   Usage      |\n",
      "|=============================================================================|\n",
      "|  No running processes found                                                 |\n",
      "+-----------------------------------------------------------------------------+\n"
     ]
    }
   ],
   "source": [
    "!nvidia-smi"
   ]
  },
  {
   "cell_type": "code",
   "execution_count": 2,
   "metadata": {
    "colab": {
     "base_uri": "https://localhost:8080/"
    },
    "executionInfo": {
     "elapsed": 9066,
     "status": "ok",
     "timestamp": 1660285925289,
     "user": {
      "displayName": "Dtekno mlai",
      "userId": "06944206723654354173"
     },
     "user_tz": -180
    },
    "id": "RB0bRFr1mmkV",
    "outputId": "2fd41a40-275e-4776-c550-2e522db05f05"
   },
   "outputs": [
    {
     "name": "stdout",
     "output_type": "stream",
     "text": [
      "Requirement already satisfied: einops in c:\\users\\tarik\\anaconda3\\lib\\site-packages (0.4.1)\n"
     ]
    },
    {
     "data": {
      "text/plain": [
       "True"
      ]
     },
     "execution_count": 2,
     "metadata": {},
     "output_type": "execute_result"
    }
   ],
   "source": [
    "!pip install einops\n",
    "import torch\n",
    "torch.cuda.is_available()"
   ]
  },
  {
   "cell_type": "code",
   "execution_count": 3,
   "metadata": {
    "colab": {
     "base_uri": "https://localhost:8080/"
    },
    "executionInfo": {
     "elapsed": 29894,
     "status": "ok",
     "timestamp": 1660285955171,
     "user": {
      "displayName": "Dtekno mlai",
      "userId": "06944206723654354173"
     },
     "user_tz": -180
    },
    "id": "JpqOk83RT0pT",
    "outputId": "eb942fde-93ca-48a1-862c-e638f0db4d75"
   },
   "outputs": [],
   "source": [
    "import os\n",
    "os.environ['CUDA_LAUNCH_BLOCKING'] = \"1\""
   ]
  },
  {
   "cell_type": "code",
   "execution_count": 4,
   "metadata": {
    "colab": {
     "base_uri": "https://localhost:8080/"
    },
    "executionInfo": {
     "elapsed": 1818547,
     "status": "ok",
     "timestamp": 1660285314026,
     "user": {
      "displayName": "Dtekno mlai",
      "userId": "06944206723654354173"
     },
     "user_tz": -180
    },
    "id": "MVbpNOKWxrLr",
    "outputId": "f7506154-0c2c-4abc-c7ee-17fdf4066ebc"
   },
   "outputs": [
    {
     "data": {
      "text/plain": [
       "'\\n#Checking if photos are readable for PIL\\nfrom PIL import Image \\nwith os.scandir(\"./Dataset/Dataset_Y/\") as tarama:\\n    for belge in tarama:\\n      with os.scandir(\"./Dataset/Dataset_Y/\" + str(belge.name)) as tarama2:\\n        for belge2 in tarama2:\\n          with os.scandir(\"./Dataset/Dataset_Y/\" + str(belge.name) + \\'/\\' + str(belge2.name)) as tarama3:\\n            for belge3 in tarama3:\\n              try:\\n                Image.open(\"./Dataset/Dataset_Y/\" + str(belge.name) + \\'/\\' + str(belge2.name)+ \\'/\\' + str(belge3.name))\\n              except:\\n                os.remove(\"./Dataset/Dataset_Y/\" + str(belge.name) + \\'/\\' + str(belge2.name)+ \\'/\\' + str(belge3.name))\\n                print(\\'deleted\\')\\nprint(\\'finish\\')\\n            \\n'"
      ]
     },
     "execution_count": 4,
     "metadata": {},
     "output_type": "execute_result"
    }
   ],
   "source": [
    "'''\n",
    "#Checking if photos are readable for PIL\n",
    "from PIL import Image \n",
    "with os.scandir(\"./Dataset/Dataset_Y/\") as tarama:\n",
    "    for belge in tarama:\n",
    "      with os.scandir(\"./Dataset/Dataset_Y/\" + str(belge.name)) as tarama2:\n",
    "        for belge2 in tarama2:\n",
    "          with os.scandir(\"./Dataset/Dataset_Y/\" + str(belge.name) + '/' + str(belge2.name)) as tarama3:\n",
    "            for belge3 in tarama3:\n",
    "              try:\n",
    "                Image.open(\"./Dataset/Dataset_Y/\" + str(belge.name) + '/' + str(belge2.name)+ '/' + str(belge3.name))\n",
    "              except:\n",
    "                os.remove(\"./Dataset/Dataset_Y/\" + str(belge.name) + '/' + str(belge2.name)+ '/' + str(belge3.name))\n",
    "                print('deleted')\n",
    "print('finish')\n",
    "            \n",
    "'''"
   ]
  },
  {
   "cell_type": "code",
   "execution_count": 5,
   "metadata": {
    "collapsed": true,
    "id": "V15QWCrfcWgY"
   },
   "outputs": [
    {
     "name": "stdout",
     "output_type": "stream",
     "text": [
      "'Audi/A1': 0,\n",
      "'Audi/A3': 1,\n",
      "'Audi/A4': 2,\n",
      "'Audi/A4 Allroad Quattro': 3,\n",
      "'Audi/A5': 4,\n",
      "'Audi/A6': 5,\n",
      "'Audi/A7': 6,\n",
      "'Audi/A8': 7,\n",
      "'Audi/Q2': 8,\n",
      "'Audi/Q3': 9,\n",
      "'Audi/Q3 Sportback': 10,\n",
      "'Audi/Q5': 11,\n",
      "'Audi/Q7': 12,\n",
      "'Audi/S3': 13,\n",
      "'BMW/1 Serisi': 14,\n",
      "'BMW/2 Serisi': 15,\n",
      "'BMW/3 Serisi': 16,\n",
      "'BMW/4 Serisi': 17,\n",
      "'BMW/5 Serisi': 18,\n",
      "'BMW/SERIES 1': 19,\n",
      "'BMW/X1': 20,\n",
      "'BMW/X2': 21,\n",
      "'BMW/X3': 22,\n",
      "'BMW/X5': 23,\n",
      "'Chevrolet/Aveo': 24,\n",
      "'Chevrolet/Captiva': 25,\n",
      "'Chevrolet/Cruze': 26,\n",
      "'Citroen/Berlingo': 27,\n",
      "'Citroen/C-ELYSEE': 28,\n",
      "'Citroen/C3': 29,\n",
      "'Citroen/C4': 30,\n",
      "'Citroen/C5 Aircross': 31,\n",
      "'Citroen/DS 7 CROSSBACK': 32,\n",
      "'Dacia/Duster': 33,\n",
      "'Dacia/Lodgy': 34,\n",
      "'Dacia/Sandero': 35,\n",
      "'Fiat/500L': 36,\n",
      "'Fiat/Doblo': 37,\n",
      "'Fiat/Egea': 38,\n",
      "'Fiat/Fiorino': 39,\n",
      "'Fiat/Linea': 40,\n",
      "'Fiat/Punto': 41,\n",
      "'Ford/Fiesta': 42,\n",
      "'Ford/Focus': 43,\n",
      "'Ford/Kuga': 44,\n",
      "'Ford/Puma': 45,\n",
      "'Ford/Tourneo Connect': 46,\n",
      "'Ford/Tourneo Courier': 47,\n",
      "'Ford/Tourneo Custom': 48,\n",
      "'Honda/City': 49,\n",
      "'Honda/Civic': 50,\n",
      "'Honda/CR-V': 51,\n",
      "'Hyundai/Elantra': 52,\n",
      "'Hyundai/I10': 53,\n",
      "'Hyundai/I20': 54,\n",
      "'Hyundai/I30': 55,\n",
      "'Hyundai/ix35': 56,\n",
      "'Hyundai/Tucson': 57,\n",
      "'Isuzu/D-MAX': 58,\n",
      "'Jeep/Cherokee': 59,\n",
      "'Jeep/Compass': 60,\n",
      "'Jeep/Renegade': 61,\n",
      "'KIA/Cerato': 62,\n",
      "'KIA/Picanto': 63,\n",
      "'KIA/Rio': 64,\n",
      "'KIA/Sportage': 65,\n",
      "'Land Over/Discovery Sport': 66,\n",
      "'Land Over/Range Rover Evoque': 67,\n",
      "'Land Over/Range Rover Sport': 68,\n",
      "'Mazda/Mazda3': 69,\n",
      "'Mercedes-Benz/190 E': 70,\n",
      "'Mercedes-Benz/280': 71,\n",
      "'Mercedes-Benz/A-Serisi': 72,\n",
      "'Mercedes-Benz/AMG GT': 73,\n",
      "'Mercedes-Benz/B-Serisi': 74,\n",
      "'Mercedes-Benz/C-Serisi': 75,\n",
      "'Mercedes-Benz/CLA-Serisi': 76,\n",
      "'Mercedes-Benz/E-Serisi': 77,\n",
      "'Mercedes-Benz/X-Class': 78,\n",
      "'MINI/Cooper': 79,\n",
      "'MINI/One': 80,\n",
      "'Nissan/EX': 81,\n",
      "'Nissan/Juke': 82,\n",
      "'Nissan/Micra': 83,\n",
      "'Nissan/Navara': 84,\n",
      "'Nissan/Qashqai': 85,\n",
      "'Opel/Astra': 86,\n",
      "'Opel/Corsa': 87,\n",
      "'Opel/Crossland X': 88,\n",
      "'Opel/Grandland X': 89,\n",
      "'Opel/Insignia': 90,\n",
      "'Opel/Mokka': 91,\n",
      "'Peugeot/2008': 92,\n",
      "'Peugeot/208': 93,\n",
      "'Peugeot/3008': 94,\n",
      "'Peugeot/301': 95,\n",
      "'Peugeot/308': 96,\n",
      "'Peugeot/Partner': 97,\n",
      "'Peugeot/Rifter': 98,\n",
      "'Porsche/Macan': 99,\n",
      "'Porsche/Panamera': 100,\n",
      "'Porsche/Taycan': 101,\n",
      "'Renault/Captur': 102,\n",
      "'Renault/Clio': 103,\n",
      "'Renault/Fluence': 104,\n",
      "'Renault/Kadjar': 105,\n",
      "'Renault/Megane': 106,\n",
      "'Renault/Symbol': 107,\n",
      "'Renault/Taliant': 108,\n",
      "'Seat/Arona': 109,\n",
      "'Seat/Ateca': 110,\n",
      "'Seat/Ibiza': 111,\n",
      "'Seat/Leon': 112,\n",
      "'Seat/Toledo': 113,\n",
      "'Toyota/Auris': 114,\n",
      "'Toyota/C-HR': 115,\n",
      "'Toyota/Corolla': 116,\n",
      "'Toyota/Proace City': 117,\n",
      "'Toyota/RAV4': 118,\n",
      "'Toyota/Yaris': 119,\n",
      "'Volkswagen/Amarok': 120,\n",
      "'Volkswagen/Arteon': 121,\n",
      "'Volkswagen/Beetle': 122,\n",
      "'Volkswagen/Caddy': 123,\n",
      "'Volkswagen/CC': 124,\n",
      "'Volkswagen/Golf': 125,\n",
      "'Volkswagen/Jetta': 126,\n",
      "'Volkswagen/Passat': 127,\n",
      "'Volkswagen/Passat Variant': 128,\n",
      "'Volkswagen/Polo': 129,\n",
      "'Volkswagen/T-ROC': 130,\n",
      "'Volkswagen/Tiguan': 131,\n",
      "'Volkswagen/Touareg': 132,\n",
      "'Volkswagen/Transporter': 133,\n",
      "'Volvo(Yeni)/V40 CROSS COUNTRY': 134,\n",
      "'Volvo(Yeni)/XC90': 135,\n"
     ]
    }
   ],
   "source": [
    "#Labels creating I think you already prepared the label dict\n",
    "Labels = {}\n",
    "i = 0\n",
    "with os.scandir(\"./Dataset/Dataset_Y/\") as tarama:\n",
    "    for belge in tarama:\n",
    "      with os.scandir(\"./Dataset/Dataset_Y/\" + str(belge.name)) as tarama2:\n",
    "        for belge2 in tarama2:\n",
    "          Labels[belge.name + '/' + belge2.name] = i\n",
    "          i +=1\n",
    "\n",
    "# for better looks sort dict and copy past all prints to Label section in dataset loaader part\n",
    "sorted_labels = sorted(Labels.items(), key= lambda x:x[1])\n",
    "for i in sorted_labels:\n",
    "  print(\"'\"+ i[0] + \"': \" + str(i[1])+ \",\")\n",
    "  "
   ]
  },
  {
   "cell_type": "code",
   "execution_count": 6,
   "metadata": {},
   "outputs": [],
   "source": [
    "from __future__ import print_function, division\n",
    "\n",
    "import torch\n",
    "import torch.nn as nn\n",
    "import torch.optim as optim\n",
    "from torch.optim import lr_scheduler\n",
    "import torch.backends.cudnn as cudnn\n",
    "import numpy as np\n",
    "import torchvision\n",
    "from torchvision import datasets, models, transforms\n",
    "import matplotlib.pyplot as plt\n",
    "import time\n",
    "import os\n",
    "import copy\n",
    "\n",
    "cudnn.benchmark = True\n",
    "plt.ion()   # interactive mode"
   ]
  },
  {
   "cell_type": "code",
   "execution_count": 7,
   "metadata": {
    "executionInfo": {
     "elapsed": 5,
     "status": "ok",
     "timestamp": 1660285956336,
     "user": {
      "displayName": "Dtekno mlai",
      "userId": "06944206723654354173"
     },
     "user_tz": -180
    },
    "id": "WgEaioFqWklH"
   },
   "outputs": [],
   "source": [
    "import torch.optim as optim\n",
    "import torch\n",
    "import torch.nn as nn\n",
    "import torch.nn.parallel\n",
    "import torch.utils.data\n",
    "import torch.utils.data.distributed\n",
    "import torchvision.transforms as transforms\n",
    "#from dataset.dataset import SeedlingData\n",
    "from torch.autograd import Variable"
   ]
  },
  {
   "cell_type": "code",
   "execution_count": 8,
   "metadata": {
    "executionInfo": {
     "elapsed": 4,
     "status": "ok",
     "timestamp": 1660285956336,
     "user": {
      "displayName": "Dtekno mlai",
      "userId": "06944206723654354173"
     },
     "user_tz": -180
    },
    "id": "atFN20n2WlMk"
   },
   "outputs": [],
   "source": [
    "# Set global parameters\n",
    "modellr = 1e-4\n",
    "BATCH_SIZE = 32 # we can drop it 8 if we encourage any ram eror \n",
    "EPOCHS = 20 #maybe 100\n",
    "device = torch.device('cuda' if torch.cuda.is_available() else 'cpu')"
   ]
  },
  {
   "cell_type": "code",
   "execution_count": 9,
   "metadata": {},
   "outputs": [
    {
     "data": {
      "text/plain": [
       "device(type='cuda')"
      ]
     },
     "execution_count": 9,
     "metadata": {},
     "output_type": "execute_result"
    }
   ],
   "source": [
    "torch.device('cuda' if torch.cuda.is_available() else 'cpu')"
   ]
  },
  {
   "cell_type": "code",
   "execution_count": 10,
   "metadata": {
    "executionInfo": {
     "elapsed": 4,
     "status": "ok",
     "timestamp": 1660285956336,
     "user": {
      "displayName": "Dtekno mlai",
      "userId": "06944206723654354173"
     },
     "user_tz": -180
    },
    "id": "p8X6L8JqWn3x"
   },
   "outputs": [],
   "source": [
    "# Data preprocessing\n",
    "\n",
    "transform = transforms.Compose([\n",
    "    transforms.Resize((224, 224)),\n",
    "    transforms.ToTensor(),\n",
    "    transforms.Normalize([0.5, 0.5, 0.5], [0.5, 0.5, 0.5])\n",
    "\n",
    "])\n",
    "transform_test = transforms.Compose([\n",
    "    transforms.Resize((224, 224)),\n",
    "    transforms.ToTensor(),\n",
    "    transforms.Normalize([0.5, 0.5, 0.5], [0.5, 0.5, 0.5])\n",
    "])"
   ]
  },
  {
   "cell_type": "code",
   "execution_count": 11,
   "metadata": {
    "executionInfo": {
     "elapsed": 929,
     "status": "ok",
     "timestamp": 1660285957261,
     "user": {
      "displayName": "Dtekno mlai",
      "userId": "06944206723654354173"
     },
     "user_tz": -180
    },
    "id": "Eb3zDWoJbCey"
   },
   "outputs": [],
   "source": [
    "import os\n",
    "from PIL import Image\n",
    "from torch.utils import data\n",
    "from torchvision import transforms as T\n",
    "from sklearn.model_selection import train_test_split\n",
    "\n",
    "Labels = {'Audi/A1': 0,\n",
    "'Audi/A3': 1,\n",
    "'Audi/A4': 2,\n",
    "'Audi/A4 Allroad Quattro': 3,\n",
    "'Audi/A5': 4,\n",
    "'Audi/A6': 5,\n",
    "'Audi/A7': 6,\n",
    "'Audi/A8': 7,\n",
    "'Audi/Q2': 8,\n",
    "'Audi/Q3': 9,\n",
    "'Audi/Q3 Sportback': 10,\n",
    "'Audi/Q5': 11,\n",
    "'Audi/Q7': 12,\n",
    "'Audi/S3': 13,\n",
    "'BMW/1 Serisi': 14,\n",
    "'BMW/2 Serisi': 15,\n",
    "'BMW/3 Serisi': 16,\n",
    "'BMW/4 Serisi': 17,\n",
    "'BMW/5 Serisi': 18,\n",
    "'BMW/SERIES 1': 19,\n",
    "'BMW/X1': 20,\n",
    "'BMW/X2': 21,\n",
    "'BMW/X3': 22,\n",
    "'BMW/X5': 23,\n",
    "'Chevrolet/Aveo': 24,\n",
    "'Chevrolet/Captiva': 25,\n",
    "'Chevrolet/Cruze': 26,\n",
    "'Citroen/Berlingo': 27,\n",
    "'Citroen/C-ELYSEE': 28,\n",
    "'Citroen/C3': 29,\n",
    "'Citroen/C4': 30,\n",
    "'Citroen/C5 Aircross': 31,\n",
    "'Citroen/DS 7 CROSSBACK': 32,\n",
    "'Dacia/Duster': 33,\n",
    "'Dacia/Lodgy': 34,\n",
    "'Dacia/Sandero': 35,\n",
    "'Fiat/500L': 36,\n",
    "'Fiat/Doblo': 37,\n",
    "'Fiat/Egea': 38,\n",
    "'Fiat/Fiorino': 39,\n",
    "'Fiat/Linea': 40,\n",
    "'Fiat/Punto': 41,\n",
    "'Ford/Fiesta': 42,\n",
    "'Ford/Focus': 43,\n",
    "'Ford/Kuga': 44,\n",
    "'Ford/Puma': 45,\n",
    "'Ford/Tourneo Connect': 46,\n",
    "'Ford/Tourneo Courier': 47,\n",
    "'Ford/Tourneo Custom': 48,\n",
    "'Honda/City': 49,\n",
    "'Honda/Civic': 50,\n",
    "'Honda/CR-V': 51,\n",
    "'Hyundai/Elantra': 52,\n",
    "'Hyundai/I10': 53,\n",
    "'Hyundai/I20': 54,\n",
    "'Hyundai/I30': 55,\n",
    "'Hyundai/ix35': 56,\n",
    "'Hyundai/Tucson': 57,\n",
    "'Isuzu/D-MAX': 58,\n",
    "'Jeep/Cherokee': 59,\n",
    "'Jeep/Compass': 60,\n",
    "'Jeep/Renegade': 61,\n",
    "'KIA/Cerato': 62,\n",
    "'KIA/Picanto': 63,\n",
    "'KIA/Rio': 64,\n",
    "'KIA/Sportage': 65,\n",
    "'Land Over/Discovery Sport': 66,\n",
    "'Land Over/Range Rover Evoque': 67,\n",
    "'Land Over/Range Rover Sport': 68,\n",
    "'Mazda/Mazda3': 69,\n",
    "'Mercedes-Benz/190 E': 70,\n",
    "'Mercedes-Benz/280': 71,\n",
    "'Mercedes-Benz/A-Serisi': 72,\n",
    "'Mercedes-Benz/AMG GT': 73,\n",
    "'Mercedes-Benz/B-Serisi': 74,\n",
    "'Mercedes-Benz/C-Serisi': 75,\n",
    "'Mercedes-Benz/CLA-Serisi': 76,\n",
    "'Mercedes-Benz/E-Serisi': 77,\n",
    "'Mercedes-Benz/X-Class': 78,\n",
    "'MINI/Cooper': 79,\n",
    "'MINI/One': 80,\n",
    "'Nissan/EX': 81,\n",
    "'Nissan/Juke': 82,\n",
    "'Nissan/Micra': 83,\n",
    "'Nissan/Navara': 84,\n",
    "'Nissan/Qashqai': 85,\n",
    "'Opel/Astra': 86,\n",
    "'Opel/Corsa': 87,\n",
    "'Opel/Crossland X': 88,\n",
    "'Opel/Grandland X': 89,\n",
    "'Opel/Insignia': 90,\n",
    "'Opel/Mokka': 91,\n",
    "'Peugeot/2008': 92,\n",
    "'Peugeot/208': 93,\n",
    "'Peugeot/3008': 94,\n",
    "'Peugeot/301': 95,\n",
    "'Peugeot/308': 96,\n",
    "'Peugeot/Partner': 97,\n",
    "'Peugeot/Rifter': 98,\n",
    "'Porsche/Macan': 99,\n",
    "'Porsche/Panamera': 100,\n",
    "'Porsche/Taycan': 101,\n",
    "'Renault/Captur': 102,\n",
    "'Renault/Clio': 103,\n",
    "'Renault/Fluence': 104,\n",
    "'Renault/Kadjar': 105,\n",
    "'Renault/Megane': 106,\n",
    "'Renault/Symbol': 107,\n",
    "'Renault/Taliant': 108,\n",
    "'Seat/Arona': 109,\n",
    "'Seat/Ateca': 110,\n",
    "'Seat/Ibiza': 111,\n",
    "'Seat/Leon': 112,\n",
    "'Seat/Toledo': 113,\n",
    "'Toyota/Auris': 114,\n",
    "'Toyota/C-HR': 115,\n",
    "'Toyota/Corolla': 116,\n",
    "'Toyota/Proace City': 117,\n",
    "'Toyota/RAV4': 118,\n",
    "'Toyota/Yaris': 119,\n",
    "'Volkswagen/Amarok': 120,\n",
    "'Volkswagen/Arteon': 121,\n",
    "'Volkswagen/Beetle': 122,\n",
    "'Volkswagen/Caddy': 123,\n",
    "'Volkswagen/CC': 124,\n",
    "'Volkswagen/Golf': 125,\n",
    "'Volkswagen/Jetta': 126,\n",
    "'Volkswagen/Passat': 127,\n",
    "'Volkswagen/Passat Variant': 128,\n",
    "'Volkswagen/Polo': 129,\n",
    "'Volkswagen/T-ROC': 130,\n",
    "'Volkswagen/Tiguan': 131,\n",
    "'Volkswagen/Touareg': 132,\n",
    "'Volkswagen/Transporter': 133,\n",
    "'Volvo(Yeni)/V40 CROSS COUNTRY': 134,\n",
    "'Volvo(Yeni)/XC90': 135}\n",
    " \n",
    "class SeedlingData (data.Dataset):\n",
    " \n",
    "    def __init__(self, root, transforms=None, train=True, test=False):\n",
    "        \"\"\"\n",
    "        Main objective: to obtain the addresses of all pictures and divide the data according to training, verification and test\n",
    "        \"\"\"\n",
    "        self.test = test\n",
    "        self.transforms = transforms\n",
    " \n",
    "        if self.test:\n",
    "            imgs = [os.path.join(root, img + '/' +img2) for img in os.listdir(root) for img2 in os.listdir(root+ img)]\n",
    "            self.imgs = imgs\n",
    "        else:\n",
    "            imgs_labels = [os.path.join(root, img + '/' +img2) for img in os.listdir(root) for img2 in os.listdir(root+ img)]\n",
    "            imgs = []\n",
    "            for imglable in imgs_labels:\n",
    "                for imgname in os.listdir(imglable):\n",
    "                    imgpath = os.path.join(imglable, imgname)\n",
    "                    imgs.append(imgpath)\n",
    "            trainval_files, val_files = train_test_split(imgs, test_size=0.3, random_state=42)\n",
    "            if train:\n",
    "                self.imgs = trainval_files\n",
    "            else:\n",
    "                self.imgs = val_files\n",
    " \n",
    "    def __getitem__(self, index):\n",
    "        \"\"\"\n",
    "        Returns the data of one picture at a time\n",
    "        \"\"\"\n",
    "        img_path = self.imgs[index]\n",
    "        img_path=img_path.replace(\"\\\\\",'/')\n",
    "        if self.test:\n",
    "            label = -1\n",
    "        else:\n",
    "            labelname = img_path.split('/')[-3] + '/' + img_path.split('/')[-2]\n",
    "            label = Labels[labelname]\n",
    "        data = Image.open(img_path).convert('RGB')\n",
    "        data = self.transforms(data)\n",
    "        return data, label\n",
    " \n",
    "    def __len__(self):\n",
    "        return len(self.imgs)"
   ]
  },
  {
   "cell_type": "code",
   "execution_count": 12,
   "metadata": {
    "executionInfo": {
     "elapsed": 154803,
     "status": "ok",
     "timestamp": 1660286112061,
     "user": {
      "displayName": "Dtekno mlai",
      "userId": "06944206723654354173"
     },
     "user_tz": -180
    },
    "id": "tgci62TDW3zy"
   },
   "outputs": [],
   "source": [
    "# Read data\n",
    "dataset_train = SeedlingData(\"./Dataset/Dataset_Y/\", transforms=transform, train=True)\n",
    "dataset_test = SeedlingData(\"./Dataset/Dataset_Y/\", transforms=transform_test, train=False)\n",
    "# Import data \n",
    "# if encourage any cuda ram eror and we drop batch_size and num_workers and its not solve then look at this stackoverflow page\n",
    "# https://stackoverflow.com/questions/54374935/how-to-fix-this-strange-error-runtimeerror-cuda-error-out-of-memory \n",
    "train_loader = torch.utils.data.DataLoader(dataset_train, batch_size=BATCH_SIZE, shuffle=True) #, num_workers = 4)\n",
    "test_loader = torch.utils.data.DataLoader(dataset_test, batch_size=BATCH_SIZE, shuffle=False) # , num_workers = 4)"
   ]
  },
  {
   "cell_type": "code",
   "execution_count": 13,
   "metadata": {},
   "outputs": [],
   "source": [
    "datasets = {\"train\":dataset_train, \"test\":dataset_test}\n",
    "dataloaders = {\"train\":train_loader, \"test\":test_loader}"
   ]
  },
  {
   "cell_type": "code",
   "execution_count": 14,
   "metadata": {},
   "outputs": [],
   "source": [
    "dataset_sizes = {x: len(datasets[x]) for x in ['train', 'test']}"
   ]
  },
  {
   "cell_type": "code",
   "execution_count": 15,
   "metadata": {
    "executionInfo": {
     "elapsed": 1170,
     "status": "ok",
     "timestamp": 1660285956335,
     "user": {
      "displayName": "Dtekno mlai",
      "userId": "06944206723654354173"
     },
     "user_tz": -180
    },
    "id": "PFC0T5QjXKQP"
   },
   "outputs": [],
   "source": [
    "def train_model(model, criterion, optimizer, scheduler, num_epochs=16):\n",
    "    since = time.time()\n",
    "\n",
    "    best_model_wts = copy.deepcopy(model.state_dict())\n",
    "    best_acc = 0.0\n",
    "\n",
    "    for epoch in range(num_epochs):\n",
    "        print(f'Epoch {epoch}/{num_epochs - 1}')\n",
    "        print('-' * 10)\n",
    "\n",
    "        # Each epoch has a training and validation phase\n",
    "        for phase in ['train', 'test']:\n",
    "            if phase == 'train':\n",
    "                model.train()  # Set model to training mode\n",
    "            else:\n",
    "                model.eval()   # Set model to evaluate mode\n",
    "\n",
    "            running_loss = 0.0\n",
    "            running_corrects = 0\n",
    "\n",
    "            # Iterate over data.\n",
    "            for inputs, labels in dataloaders[phase]:\n",
    "                inputs = inputs.to(device)\n",
    "                labels = labels.to(device)\n",
    "\n",
    "                # zero the parameter gradients\n",
    "                optimizer.zero_grad()\n",
    "\n",
    "                # forward\n",
    "                # track history if only in train\n",
    "                with torch.set_grad_enabled(phase == 'train'):\n",
    "                    outputs = model(inputs)\n",
    "                    _, preds = torch.max(outputs, 1)\n",
    "                    loss = criterion(outputs, labels)\n",
    "\n",
    "                    # backward + optimize only if in training phase\n",
    "                    if phase == 'train':\n",
    "                        loss.backward()\n",
    "                        optimizer.step()\n",
    "\n",
    "                # statistics\n",
    "                running_loss += loss.item() * inputs.size(0)\n",
    "                running_corrects += torch.sum(preds == labels.data)\n",
    "            if phase == 'train':\n",
    "                scheduler.step()\n",
    "\n",
    "            epoch_loss = running_loss / dataset_sizes[phase]\n",
    "            epoch_acc = running_corrects.double() / dataset_sizes[phase]\n",
    "\n",
    "            print(f'{phase} Loss: {epoch_loss:.4f} Acc: {epoch_acc:.4f}')\n",
    "\n",
    "            # deep copy the model\n",
    "            if phase == 'test' and epoch_acc > best_acc:\n",
    "                best_acc = epoch_acc\n",
    "                best_model_wts = copy.deepcopy(model.state_dict())\n",
    "\n",
    "        print()\n",
    "\n",
    "    time_elapsed = time.time() - since\n",
    "    print(f'Training complete in {time_elapsed // 60:.0f}m {time_elapsed % 60:.0f}s')\n",
    "    print(f'Best val Acc: {best_acc:4f}')\n",
    "\n",
    "    # load best model weights\n",
    "    model.load_state_dict(best_model_wts)\n",
    "    return model"
   ]
  },
  {
   "cell_type": "code",
   "execution_count": 16,
   "metadata": {},
   "outputs": [],
   "source": [
    "model_ft = models.resnet50(pretrained=True)\n",
    "num_ftrs = model_ft.fc.in_features\n",
    "# Here the size of each output sample is set to 2.\n",
    "# Alternatively, it can be generalized to nn.Linear(num_ftrs, len(class_names)).\n",
    "model_ft.fc = nn.Linear(num_ftrs, 136)\n",
    "\n",
    "model_ft = model_ft.to(device)\n",
    "\n",
    "criterion = nn.CrossEntropyLoss()\n",
    "\n",
    "# Observe that all parameters are being optimized\n",
    "optimizer_ft = optim.Adam(model_ft.parameters(), lr=modellr)\n",
    "\n",
    "# Decay LR by a factor of 0.1 every 7 epochs\n",
    "exp_lr_scheduler = optim.lr_scheduler.CosineAnnealingLR(optimizer=optimizer_ft,T_max=20,eta_min=1e-9)"
   ]
  },
  {
   "cell_type": "code",
   "execution_count": 17,
   "metadata": {},
   "outputs": [
    {
     "name": "stdout",
     "output_type": "stream",
     "text": [
      "Epoch 0/29\n",
      "----------\n"
     ]
    },
    {
     "name": "stderr",
     "output_type": "stream",
     "text": [
      "C:\\Users\\tarik\\anaconda3\\lib\\site-packages\\torch\\nn\\functional.py:718: UserWarning: Named tensors and all their associated APIs are an experimental feature and subject to change. Please do not use them for anything important until they are released as stable. (Triggered internally at  ..\\c10/core/TensorImpl.h:1156.)\n",
      "  return torch.max_pool2d(input, kernel_size, stride, padding, dilation, ceil_mode)\n",
      "C:\\Users\\tarik\\anaconda3\\lib\\site-packages\\PIL\\Image.py:951: UserWarning: Palette images with Transparency expressed in bytes should be converted to RGBA images\n",
      "  warnings.warn(\n"
     ]
    },
    {
     "name": "stdout",
     "output_type": "stream",
     "text": [
      "train Loss: 3.1357 Acc: 0.2930\n",
      "test Loss: 2.1416 Acc: 0.4537\n",
      "\n",
      "Epoch 1/29\n",
      "----------\n",
      "train Loss: 1.5041 Acc: 0.6217\n",
      "test Loss: 1.5805 Acc: 0.5907\n",
      "\n",
      "Epoch 2/29\n",
      "----------\n",
      "train Loss: 0.7107 Acc: 0.8221\n",
      "test Loss: 1.2398 Acc: 0.6677\n",
      "\n",
      "Epoch 3/29\n",
      "----------\n",
      "train Loss: 0.2999 Acc: 0.9388\n",
      "test Loss: 1.2188 Acc: 0.6788\n",
      "\n",
      "Epoch 4/29\n",
      "----------\n",
      "train Loss: 0.1143 Acc: 0.9827\n",
      "test Loss: 1.0976 Acc: 0.7203\n",
      "\n",
      "Epoch 5/29\n",
      "----------\n",
      "train Loss: 0.0524 Acc: 0.9938\n",
      "test Loss: 0.9834 Acc: 0.7489\n",
      "\n",
      "Epoch 6/29\n",
      "----------\n",
      "train Loss: 0.0252 Acc: 0.9978\n",
      "test Loss: 0.9986 Acc: 0.7468\n",
      "\n",
      "Epoch 7/29\n",
      "----------\n",
      "train Loss: 0.0148 Acc: 0.9987\n",
      "test Loss: 0.9332 Acc: 0.7632\n",
      "\n",
      "Epoch 8/29\n",
      "----------\n",
      "train Loss: 0.0100 Acc: 0.9987\n",
      "test Loss: 1.0025 Acc: 0.7474\n",
      "\n",
      "Epoch 9/29\n",
      "----------\n",
      "train Loss: 0.0109 Acc: 0.9985\n",
      "test Loss: 0.9801 Acc: 0.7617\n",
      "\n",
      "Epoch 10/29\n",
      "----------\n",
      "train Loss: 0.0073 Acc: 0.9991\n",
      "test Loss: 0.9484 Acc: 0.7632\n",
      "\n",
      "Epoch 11/29\n",
      "----------\n",
      "train Loss: 0.0050 Acc: 0.9991\n",
      "test Loss: 0.9290 Acc: 0.7708\n",
      "\n",
      "Epoch 12/29\n",
      "----------\n",
      "train Loss: 0.0045 Acc: 0.9991\n",
      "test Loss: 0.9384 Acc: 0.7695\n",
      "\n",
      "Epoch 13/29\n",
      "----------\n",
      "train Loss: 0.0040 Acc: 0.9990\n",
      "test Loss: 0.9436 Acc: 0.7673\n",
      "\n",
      "Epoch 14/29\n",
      "----------\n",
      "train Loss: 0.0035 Acc: 0.9989\n",
      "test Loss: 0.9373 Acc: 0.7701\n",
      "\n",
      "Epoch 15/29\n",
      "----------\n",
      "train Loss: 0.0032 Acc: 0.9989\n",
      "test Loss: 0.9471 Acc: 0.7712\n",
      "\n",
      "Epoch 16/29\n",
      "----------\n",
      "train Loss: 0.0029 Acc: 0.9988\n",
      "test Loss: 0.9244 Acc: 0.7777\n",
      "\n",
      "Epoch 17/29\n",
      "----------\n",
      "train Loss: 0.0028 Acc: 0.9989\n",
      "test Loss: 0.9368 Acc: 0.7751\n",
      "\n",
      "Epoch 18/29\n",
      "----------\n",
      "train Loss: 0.0025 Acc: 0.9994\n",
      "test Loss: 0.9372 Acc: 0.7734\n",
      "\n",
      "Epoch 19/29\n",
      "----------\n",
      "train Loss: 0.0026 Acc: 0.9992\n",
      "test Loss: 0.9293 Acc: 0.7751\n",
      "\n",
      "Epoch 20/29\n",
      "----------\n",
      "train Loss: 0.0024 Acc: 0.9995\n",
      "test Loss: 0.9370 Acc: 0.7708\n",
      "\n",
      "Epoch 21/29\n",
      "----------\n",
      "train Loss: 0.0025 Acc: 0.9990\n",
      "test Loss: 0.9248 Acc: 0.7792\n",
      "\n",
      "Epoch 22/29\n",
      "----------\n",
      "train Loss: 0.0024 Acc: 0.9993\n",
      "test Loss: 0.9250 Acc: 0.7764\n",
      "\n",
      "Epoch 23/29\n",
      "----------\n",
      "train Loss: 0.0028 Acc: 0.9990\n",
      "test Loss: 0.9312 Acc: 0.7755\n",
      "\n",
      "Epoch 24/29\n",
      "----------\n",
      "train Loss: 0.0030 Acc: 0.9990\n",
      "test Loss: 0.9378 Acc: 0.7766\n",
      "\n",
      "Epoch 25/29\n",
      "----------\n",
      "train Loss: 0.0031 Acc: 0.9991\n",
      "test Loss: 0.9718 Acc: 0.7686\n",
      "\n",
      "Epoch 26/29\n",
      "----------\n",
      "train Loss: 0.0047 Acc: 0.9991\n",
      "test Loss: 1.1959 Acc: 0.7286\n",
      "\n",
      "Epoch 27/29\n",
      "----------\n",
      "train Loss: 0.0486 Acc: 0.9903\n",
      "test Loss: 1.1083 Acc: 0.7370\n",
      "\n",
      "Epoch 28/29\n",
      "----------\n",
      "train Loss: 0.0125 Acc: 0.9975\n",
      "test Loss: 1.0973 Acc: 0.7472\n",
      "\n",
      "Epoch 29/29\n",
      "----------\n",
      "train Loss: 0.0170 Acc: 0.9957\n",
      "test Loss: 1.3577 Acc: 0.6948\n",
      "\n",
      "Training complete in 180m 20s\n",
      "Best val Acc: 0.779221\n"
     ]
    }
   ],
   "source": [
    "model_ft = train_model(model_ft, criterion, optimizer_ft, exp_lr_scheduler,\n",
    "                       num_epochs=30)\n",
    "torch.save(model_ft.state_dict(), 'dod-image30.pth')"
   ]
  },
  {
   "cell_type": "code",
   "execution_count": 18,
   "metadata": {},
   "outputs": [],
   "source": [
    "Labels2 = {y: x for x, y in Labels.items()}"
   ]
  },
  {
   "cell_type": "code",
   "execution_count": 20,
   "metadata": {},
   "outputs": [],
   "source": [
    "def imshow(inp, title=None):\n",
    "    \"\"\"Imshow for Tensor.\"\"\"\n",
    "    inp = inp.numpy().transpose((1, 2, 0))\n",
    "    mean = np.array([0.485, 0.456, 0.406])\n",
    "    std = np.array([0.229, 0.224, 0.225])\n",
    "    inp = std * inp + mean\n",
    "    inp = np.clip(inp, 0, 1)\n",
    "    plt.imshow(inp)\n",
    "    if title is not None:\n",
    "        plt.title(title)\n",
    "    plt.pause(0.001)  # pause a bit so that plots are updated"
   ]
  },
  {
   "cell_type": "code",
   "execution_count": 26,
   "metadata": {},
   "outputs": [],
   "source": [
    "def visualize_model(model, num_images=8;):\n",
    "    was_training = model.training\n",
    "    model.eval()\n",
    "    images_so_far = 0\n",
    "    fig = plt.figure()\n",
    "\n",
    "    with torch.no_grad():\n",
    "        for i, (inputs, labels) in enumerate(dataloaders['test']):\n",
    "            inputs = inputs.to(device)\n",
    "            labels = labels.to(device)\n",
    "\n",
    "            outputs = model(inputs)\n",
    "            _, preds = torch.max(outputs, 1)\n",
    "\n",
    "            for j in range(inputs.size()[0]):\n",
    "                images_so_far += 1\n",
    "                ax = plt.subplot(num_images//2, 2, images_so_far)\n",
    "                ax.axis('off')\n",
    "                ax.set_title(f'predicted: {Labels2.get(int([preds[j]][0]))}')\n",
    "                imshow(inputs.cpu().data[j])\n",
    "\n",
    "                if images_so_far == num_images:\n",
    "                    model.train(mode=was_training)\n",
    "                    return\n",
    "        model.train(mode=was_training)"
   ]
  },
  {
   "cell_type": "code",
   "execution_count": 27,
   "metadata": {},
   "outputs": [
    {
     "data": {
      "image/png": "[encoded data removed]",
      "text/plain": [
       "<Figure size 432x288 with 1 Axes>"
      ]
     },
     "metadata": {
      "needs_background": "light"
     },
     "output_type": "display_data"
    },
    {
     "data": {
      "image/png": "[encoded data removed]",
      "text/plain": [
       "<Figure size 432x288 with 1 Axes>"
      ]
     },
     "metadata": {
      "needs_background": "light"
     },
     "output_type": "display_data"
    },
    {
     "data": {
      "image/png": "[encoded data removed]",
      "text/plain": [
       "<Figure size 432x288 with 1 Axes>"
      ]
     },
     "metadata": {
      "needs_background": "light"
     },
     "output_type": "display_data"
    },
    {
     "data": {
      "image/png": "[encoded data removed]",
      "text/plain": [
       "<Figure size 432x288 with 1 Axes>"
      ]
     },
     "metadata": {
      "needs_background": "light"
     },
     "output_type": "display_data"
    },
    {
     "data": {
      "image/png": "[encoded data removed]",
      "text/plain": [
       "<Figure size 432x288 with 1 Axes>"
      ]
     },
     "metadata": {
      "needs_background": "light"
     },
     "output_type": "display_data"
    },
    {
     "data": {
      "image/png": "[encoded data removed]",
      "text/plain": [
       "<Figure size 432x288 with 1 Axes>"
      ]
     },
     "metadata": {
      "needs_background": "light"
     },
     "output_type": "display_data"
    },
    {
     "data": {
      "image/png": "[encoded data removed]",
      "text/plain": [
       "<Figure size 432x288 with 1 Axes>"
      ]
     },
     "metadata": {
      "needs_background": "light"
     },
     "output_type": "display_data"
    },
    {
     "data": {
      "image/png": "[encoded data removed]",
      "text/plain": [
       "<Figure size 432x288 with 1 Axes>"
      ]
     },
     "metadata": {
      "needs_background": "light"
     },
     "output_type": "display_data"
    }
   ],
   "source": [
    "visualize_model(model_ft)"
   ]
  },
  {
   "cell_type": "code",
   "execution_count": 57,
   "metadata": {},
   "outputs": [],
   "source": [
    "'''torch.save(model_ft,\"dod-image30.pt\")'''"
   ]
  },
  {
   "cell_type": "code",
   "execution_count": 58,
   "metadata": {
    "collapsed": true
   },
   "outputs": [
    {
     "data": {
      "text/plain": [
       "ResNet(\n",
       "  (conv1): Conv2d(3, 64, kernel_size=(7, 7), stride=(2, 2), padding=(3, 3), bias=False)\n",
       "  (bn1): BatchNorm2d(64, eps=1e-05, momentum=0.1, affine=True, track_running_stats=True)\n",
       "  (relu): ReLU(inplace=True)\n",
       "  (maxpool): MaxPool2d(kernel_size=3, stride=2, padding=1, dilation=1, ceil_mode=False)\n",
       "  (layer1): Sequential(\n",
       "    (0): Bottleneck(\n",
       "      (conv1): Conv2d(64, 64, kernel_size=(1, 1), stride=(1, 1), bias=False)\n",
       "      (bn1): BatchNorm2d(64, eps=1e-05, momentum=0.1, affine=True, track_running_stats=True)\n",
       "      (conv2): Conv2d(64, 64, kernel_size=(3, 3), stride=(1, 1), padding=(1, 1), bias=False)\n",
       "      (bn2): BatchNorm2d(64, eps=1e-05, momentum=0.1, affine=True, track_running_stats=True)\n",
       "      (conv3): Conv2d(64, 256, kernel_size=(1, 1), stride=(1, 1), bias=False)\n",
       "      (bn3): BatchNorm2d(256, eps=1e-05, momentum=0.1, affine=True, track_running_stats=True)\n",
       "      (relu): ReLU(inplace=True)\n",
       "      (downsample): Sequential(\n",
       "        (0): Conv2d(64, 256, kernel_size=(1, 1), stride=(1, 1), bias=False)\n",
       "        (1): BatchNorm2d(256, eps=1e-05, momentum=0.1, affine=True, track_running_stats=True)\n",
       "      )\n",
       "    )\n",
       "    (1): Bottleneck(\n",
       "      (conv1): Conv2d(256, 64, kernel_size=(1, 1), stride=(1, 1), bias=False)\n",
       "      (bn1): BatchNorm2d(64, eps=1e-05, momentum=0.1, affine=True, track_running_stats=True)\n",
       "      (conv2): Conv2d(64, 64, kernel_size=(3, 3), stride=(1, 1), padding=(1, 1), bias=False)\n",
       "      (bn2): BatchNorm2d(64, eps=1e-05, momentum=0.1, affine=True, track_running_stats=True)\n",
       "      (conv3): Conv2d(64, 256, kernel_size=(1, 1), stride=(1, 1), bias=False)\n",
       "      (bn3): BatchNorm2d(256, eps=1e-05, momentum=0.1, affine=True, track_running_stats=True)\n",
       "      (relu): ReLU(inplace=True)\n",
       "    )\n",
       "    (2): Bottleneck(\n",
       "      (conv1): Conv2d(256, 64, kernel_size=(1, 1), stride=(1, 1), bias=False)\n",
       "      (bn1): BatchNorm2d(64, eps=1e-05, momentum=0.1, affine=True, track_running_stats=True)\n",
       "      (conv2): Conv2d(64, 64, kernel_size=(3, 3), stride=(1, 1), padding=(1, 1), bias=False)\n",
       "      (bn2): BatchNorm2d(64, eps=1e-05, momentum=0.1, affine=True, track_running_stats=True)\n",
       "      (conv3): Conv2d(64, 256, kernel_size=(1, 1), stride=(1, 1), bias=False)\n",
       "      (bn3): BatchNorm2d(256, eps=1e-05, momentum=0.1, affine=True, track_running_stats=True)\n",
       "      (relu): ReLU(inplace=True)\n",
       "    )\n",
       "  )\n",
       "  (layer2): Sequential(\n",
       "    (0): Bottleneck(\n",
       "      (conv1): Conv2d(256, 128, kernel_size=(1, 1), stride=(1, 1), bias=False)\n",
       "      (bn1): BatchNorm2d(128, eps=1e-05, momentum=0.1, affine=True, track_running_stats=True)\n",
       "      (conv2): Conv2d(128, 128, kernel_size=(3, 3), stride=(2, 2), padding=(1, 1), bias=False)\n",
       "      (bn2): BatchNorm2d(128, eps=1e-05, momentum=0.1, affine=True, track_running_stats=True)\n",
       "      (conv3): Conv2d(128, 512, kernel_size=(1, 1), stride=(1, 1), bias=False)\n",
       "      (bn3): BatchNorm2d(512, eps=1e-05, momentum=0.1, affine=True, track_running_stats=True)\n",
       "      (relu): ReLU(inplace=True)\n",
       "      (downsample): Sequential(\n",
       "        (0): Conv2d(256, 512, kernel_size=(1, 1), stride=(2, 2), bias=False)\n",
       "        (1): BatchNorm2d(512, eps=1e-05, momentum=0.1, affine=True, track_running_stats=True)\n",
       "      )\n",
       "    )\n",
       "    (1): Bottleneck(\n",
       "      (conv1): Conv2d(512, 128, kernel_size=(1, 1), stride=(1, 1), bias=False)\n",
       "      (bn1): BatchNorm2d(128, eps=1e-05, momentum=0.1, affine=True, track_running_stats=True)\n",
       "      (conv2): Conv2d(128, 128, kernel_size=(3, 3), stride=(1, 1), padding=(1, 1), bias=False)\n",
       "      (bn2): BatchNorm2d(128, eps=1e-05, momentum=0.1, affine=True, track_running_stats=True)\n",
       "      (conv3): Conv2d(128, 512, kernel_size=(1, 1), stride=(1, 1), bias=False)\n",
       "      (bn3): BatchNorm2d(512, eps=1e-05, momentum=0.1, affine=True, track_running_stats=True)\n",
       "      (relu): ReLU(inplace=True)\n",
       "    )\n",
       "    (2): Bottleneck(\n",
       "      (conv1): Conv2d(512, 128, kernel_size=(1, 1), stride=(1, 1), bias=False)\n",
       "      (bn1): BatchNorm2d(128, eps=1e-05, momentum=0.1, affine=True, track_running_stats=True)\n",
       "      (conv2): Conv2d(128, 128, kernel_size=(3, 3), stride=(1, 1), padding=(1, 1), bias=False)\n",
       "      (bn2): BatchNorm2d(128, eps=1e-05, momentum=0.1, affine=True, track_running_stats=True)\n",
       "      (conv3): Conv2d(128, 512, kernel_size=(1, 1), stride=(1, 1), bias=False)\n",
       "      (bn3): BatchNorm2d(512, eps=1e-05, momentum=0.1, affine=True, track_running_stats=True)\n",
       "      (relu): ReLU(inplace=True)\n",
       "    )\n",
       "    (3): Bottleneck(\n",
       "      (conv1): Conv2d(512, 128, kernel_size=(1, 1), stride=(1, 1), bias=False)\n",
       "      (bn1): BatchNorm2d(128, eps=1e-05, momentum=0.1, affine=True, track_running_stats=True)\n",
       "      (conv2): Conv2d(128, 128, kernel_size=(3, 3), stride=(1, 1), padding=(1, 1), bias=False)\n",
       "      (bn2): BatchNorm2d(128, eps=1e-05, momentum=0.1, affine=True, track_running_stats=True)\n",
       "      (conv3): Conv2d(128, 512, kernel_size=(1, 1), stride=(1, 1), bias=False)\n",
       "      (bn3): BatchNorm2d(512, eps=1e-05, momentum=0.1, affine=True, track_running_stats=True)\n",
       "      (relu): ReLU(inplace=True)\n",
       "    )\n",
       "  )\n",
       "  (layer3): Sequential(\n",
       "    (0): Bottleneck(\n",
       "      (conv1): Conv2d(512, 256, kernel_size=(1, 1), stride=(1, 1), bias=False)\n",
       "      (bn1): BatchNorm2d(256, eps=1e-05, momentum=0.1, affine=True, track_running_stats=True)\n",
       "      (conv2): Conv2d(256, 256, kernel_size=(3, 3), stride=(2, 2), padding=(1, 1), bias=False)\n",
       "      (bn2): BatchNorm2d(256, eps=1e-05, momentum=0.1, affine=True, track_running_stats=True)\n",
       "      (conv3): Conv2d(256, 1024, kernel_size=(1, 1), stride=(1, 1), bias=False)\n",
       "      (bn3): BatchNorm2d(1024, eps=1e-05, momentum=0.1, affine=True, track_running_stats=True)\n",
       "      (relu): ReLU(inplace=True)\n",
       "      (downsample): Sequential(\n",
       "        (0): Conv2d(512, 1024, kernel_size=(1, 1), stride=(2, 2), bias=False)\n",
       "        (1): BatchNorm2d(1024, eps=1e-05, momentum=0.1, affine=True, track_running_stats=True)\n",
       "      )\n",
       "    )\n",
       "    (1): Bottleneck(\n",
       "      (conv1): Conv2d(1024, 256, kernel_size=(1, 1), stride=(1, 1), bias=False)\n",
       "      (bn1): BatchNorm2d(256, eps=1e-05, momentum=0.1, affine=True, track_running_stats=True)\n",
       "      (conv2): Conv2d(256, 256, kernel_size=(3, 3), stride=(1, 1), padding=(1, 1), bias=False)\n",
       "      (bn2): BatchNorm2d(256, eps=1e-05, momentum=0.1, affine=True, track_running_stats=True)\n",
       "      (conv3): Conv2d(256, 1024, kernel_size=(1, 1), stride=(1, 1), bias=False)\n",
       "      (bn3): BatchNorm2d(1024, eps=1e-05, momentum=0.1, affine=True, track_running_stats=True)\n",
       "      (relu): ReLU(inplace=True)\n",
       "    )\n",
       "    (2): Bottleneck(\n",
       "      (conv1): Conv2d(1024, 256, kernel_size=(1, 1), stride=(1, 1), bias=False)\n",
       "      (bn1): BatchNorm2d(256, eps=1e-05, momentum=0.1, affine=True, track_running_stats=True)\n",
       "      (conv2): Conv2d(256, 256, kernel_size=(3, 3), stride=(1, 1), padding=(1, 1), bias=False)\n",
       "      (bn2): BatchNorm2d(256, eps=1e-05, momentum=0.1, affine=True, track_running_stats=True)\n",
       "      (conv3): Conv2d(256, 1024, kernel_size=(1, 1), stride=(1, 1), bias=False)\n",
       "      (bn3): BatchNorm2d(1024, eps=1e-05, momentum=0.1, affine=True, track_running_stats=True)\n",
       "      (relu): ReLU(inplace=True)\n",
       "    )\n",
       "    (3): Bottleneck(\n",
       "      (conv1): Conv2d(1024, 256, kernel_size=(1, 1), stride=(1, 1), bias=False)\n",
       "      (bn1): BatchNorm2d(256, eps=1e-05, momentum=0.1, affine=True, track_running_stats=True)\n",
       "      (conv2): Conv2d(256, 256, kernel_size=(3, 3), stride=(1, 1), padding=(1, 1), bias=False)\n",
       "      (bn2): BatchNorm2d(256, eps=1e-05, momentum=0.1, affine=True, track_running_stats=True)\n",
       "      (conv3): Conv2d(256, 1024, kernel_size=(1, 1), stride=(1, 1), bias=False)\n",
       "      (bn3): BatchNorm2d(1024, eps=1e-05, momentum=0.1, affine=True, track_running_stats=True)\n",
       "      (relu): ReLU(inplace=True)\n",
       "    )\n",
       "    (4): Bottleneck(\n",
       "      (conv1): Conv2d(1024, 256, kernel_size=(1, 1), stride=(1, 1), bias=False)\n",
       "      (bn1): BatchNorm2d(256, eps=1e-05, momentum=0.1, affine=True, track_running_stats=True)\n",
       "      (conv2): Conv2d(256, 256, kernel_size=(3, 3), stride=(1, 1), padding=(1, 1), bias=False)\n",
       "      (bn2): BatchNorm2d(256, eps=1e-05, momentum=0.1, affine=True, track_running_stats=True)\n",
       "      (conv3): Conv2d(256, 1024, kernel_size=(1, 1), stride=(1, 1), bias=False)\n",
       "      (bn3): BatchNorm2d(1024, eps=1e-05, momentum=0.1, affine=True, track_running_stats=True)\n",
       "      (relu): ReLU(inplace=True)\n",
       "    )\n",
       "    (5): Bottleneck(\n",
       "      (conv1): Conv2d(1024, 256, kernel_size=(1, 1), stride=(1, 1), bias=False)\n",
       "      (bn1): BatchNorm2d(256, eps=1e-05, momentum=0.1, affine=True, track_running_stats=True)\n",
       "      (conv2): Conv2d(256, 256, kernel_size=(3, 3), stride=(1, 1), padding=(1, 1), bias=False)\n",
       "      (bn2): BatchNorm2d(256, eps=1e-05, momentum=0.1, affine=True, track_running_stats=True)\n",
       "      (conv3): Conv2d(256, 1024, kernel_size=(1, 1), stride=(1, 1), bias=False)\n",
       "      (bn3): BatchNorm2d(1024, eps=1e-05, momentum=0.1, affine=True, track_running_stats=True)\n",
       "      (relu): ReLU(inplace=True)\n",
       "    )\n",
       "  )\n",
       "  (layer4): Sequential(\n",
       "    (0): Bottleneck(\n",
       "      (conv1): Conv2d(1024, 512, kernel_size=(1, 1), stride=(1, 1), bias=False)\n",
       "      (bn1): BatchNorm2d(512, eps=1e-05, momentum=0.1, affine=True, track_running_stats=True)\n",
       "      (conv2): Conv2d(512, 512, kernel_size=(3, 3), stride=(2, 2), padding=(1, 1), bias=False)\n",
       "      (bn2): BatchNorm2d(512, eps=1e-05, momentum=0.1, affine=True, track_running_stats=True)\n",
       "      (conv3): Conv2d(512, 2048, kernel_size=(1, 1), stride=(1, 1), bias=False)\n",
       "      (bn3): BatchNorm2d(2048, eps=1e-05, momentum=0.1, affine=True, track_running_stats=True)\n",
       "      (relu): ReLU(inplace=True)\n",
       "      (downsample): Sequential(\n",
       "        (0): Conv2d(1024, 2048, kernel_size=(1, 1), stride=(2, 2), bias=False)\n",
       "        (1): BatchNorm2d(2048, eps=1e-05, momentum=0.1, affine=True, track_running_stats=True)\n",
       "      )\n",
       "    )\n",
       "    (1): Bottleneck(\n",
       "      (conv1): Conv2d(2048, 512, kernel_size=(1, 1), stride=(1, 1), bias=False)\n",
       "      (bn1): BatchNorm2d(512, eps=1e-05, momentum=0.1, affine=True, track_running_stats=True)\n",
       "      (conv2): Conv2d(512, 512, kernel_size=(3, 3), stride=(1, 1), padding=(1, 1), bias=False)\n",
       "      (bn2): BatchNorm2d(512, eps=1e-05, momentum=0.1, affine=True, track_running_stats=True)\n",
       "      (conv3): Conv2d(512, 2048, kernel_size=(1, 1), stride=(1, 1), bias=False)\n",
       "      (bn3): BatchNorm2d(2048, eps=1e-05, momentum=0.1, affine=True, track_running_stats=True)\n",
       "      (relu): ReLU(inplace=True)\n",
       "    )\n",
       "    (2): Bottleneck(\n",
       "      (conv1): Conv2d(2048, 512, kernel_size=(1, 1), stride=(1, 1), bias=False)\n",
       "      (bn1): BatchNorm2d(512, eps=1e-05, momentum=0.1, affine=True, track_running_stats=True)\n",
       "      (conv2): Conv2d(512, 512, kernel_size=(3, 3), stride=(1, 1), padding=(1, 1), bias=False)\n",
       "      (bn2): BatchNorm2d(512, eps=1e-05, momentum=0.1, affine=True, track_running_stats=True)\n",
       "      (conv3): Conv2d(512, 2048, kernel_size=(1, 1), stride=(1, 1), bias=False)\n",
       "      (bn3): BatchNorm2d(2048, eps=1e-05, momentum=0.1, affine=True, track_running_stats=True)\n",
       "      (relu): ReLU(inplace=True)\n",
       "    )\n",
       "  )\n",
       "  (avgpool): AdaptiveAvgPool2d(output_size=(1, 1))\n",
       "  (fc): Linear(in_features=2048, out_features=136, bias=True)\n",
       ")"
      ]
     },
     "execution_count": 58,
     "metadata": {},
     "output_type": "execute_result"
    }
   ],
   "source": [
    "'''model2 = torch.load('dod-image30.pt')'''"
   ]
  },
  {
   "cell_type": "code",
   "execution_count": 59,
   "metadata": {},
   "outputs": [],
   "source": [
    "transform_test = transforms.Compose([\n",
    "    transforms.Resize((224, 224)),\n",
    "    transforms.ToTensor(),\n",
    "    transforms.Normalize([0.5, 0.5, 0.5], [0.5, 0.5, 0.5])\n",
    "])"
   ]
  },
  {
   "cell_type": "code",
   "execution_count": 167,
   "metadata": {},
   "outputs": [],
   "source": [
    "def predictR(PATH):\n",
    "    img = Image.open(PATH).convert('RGB')\n",
    "    img_preprocessed = transform_test(img).to(device)\n",
    "    img_preprocessed= torch.unsqueeze(img_preprocessed, 0)\n",
    "    model.eval()\n",
    "    out = model(img_preprocessed).to(device)\n",
    "    _, index = torch.max(out, 1)\n",
    "    print(f'predicted: {Labels2.get(index.item())}')\n",
    "    plt.imshow(img)\n",
    "    return"
   ]
  },
  {
   "cell_type": "code",
   "execution_count": 173,
   "metadata": {},
   "outputs": [
    {
     "name": "stdout",
     "output_type": "stream",
     "text": [
      "predicted: Volkswagen/Polo\n"
     ]
    },
    {
     "data": {
      "image/png": "[encoded data removed]",
      "text/plain": [
       "<Figure size 432x288 with 1 Axes>"
      ]
     },
     "metadata": {
      "needs_background": "light"
     },
     "output_type": "display_data"
    }
   ],
   "source": [
    "predictR(\"polo.jpg\")"
   ]
  },
  {
   "cell_type": "code",
   "execution_count": null,
   "metadata": {},
   "outputs": [],
   "source": []
  }
 ],
 "metadata": {
  "accelerator": "GPU",
  "colab": {
   "authorship_tag": "ABX9TyOrwErLpq1HnH1VRMoqvhBv",
   "collapsed_sections": [],
   "name": "train.ipynb",
   "provenance": []
  },
  "gpuClass": "standard",
  "kernelspec": {
   "display_name": "Python 3 (ipykernel)",
   "language": "python",
   "name": "python3"
  },
  "language_info": {
   "codemirror_mode": {
    "name": "ipython",
    "version": 3
   },
   "file_extension": ".py",
   "mimetype": "text/x-python",
   "name": "python",
   "nbconvert_exporter": "python",
   "pygments_lexer": "ipython3",
   "version": "3.9.13"
  }
 },
 "nbformat": 4,
 "nbformat_minor": 1
}
